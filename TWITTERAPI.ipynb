{
 "cells": [
  {
   "cell_type": "markdown",
   "id": "6679b8ac",
   "metadata": {},
   "source": [
    "# Ryan West Twitter API"
   ]
  },
  {
   "cell_type": "code",
   "execution_count": 133,
   "id": "f0b91afa",
   "metadata": {},
   "outputs": [],
   "source": [
    "import json\n",
    "import requests\n",
    "import pandas as pd\n",
    "import urllib"
   ]
  },
  {
   "cell_type": "markdown",
   "id": "c12de9ff",
   "metadata": {},
   "source": [
    "# Below is the beginning of calling the API using my tokens and calling my search query to find the tweets. I will be looking at tweets from and about Nintendo (specifically Nintendo of America). The original goal was to compare the number of likes from certain posts compared to others but as you will see I was unable to do that."
   ]
  },
  {
   "cell_type": "code",
   "execution_count": 134,
   "id": "77da5f21",
   "metadata": {},
   "outputs": [],
   "source": [
    "bearer_token = pd.read_csv('TwitterBearerKey.txt', header = 0)"
   ]
  },
  {
   "cell_type": "code",
   "execution_count": 135,
   "id": "f24aafb0",
   "metadata": {},
   "outputs": [],
   "source": [
    "header = {'Authorization' : 'Bearer {}'.format(bearer_token['Bearer Token'].iloc[0])}"
   ]
  },
  {
   "cell_type": "code",
   "execution_count": 136,
   "id": "b2710fbc",
   "metadata": {},
   "outputs": [],
   "source": [
    "ep_url = 'https://api.twitter.com/2/tweets/search/recent'"
   ]
  },
  {
   "cell_type": "code",
   "execution_count": 137,
   "id": "4bdd1e9e",
   "metadata": {},
   "outputs": [],
   "source": [
    "query = urllib.parse.quote('(#Nintendo) lang:en')"
   ]
  },
  {
   "cell_type": "code",
   "execution_count": 138,
   "id": "bfc8c646",
   "metadata": {},
   "outputs": [],
   "source": [
    "tweet_fields = 'public_metrics,created_at,author_id,lang'"
   ]
  },
  {
   "cell_type": "code",
   "execution_count": 139,
   "id": "89a66ae3",
   "metadata": {},
   "outputs": [],
   "source": [
    "my_api_url = ep_url + '?query={}&max_results=100&tweet.fields={}'.format(query, tweet_fields)"
   ]
  },
  {
   "cell_type": "code",
   "execution_count": null,
   "id": "34d464bf",
   "metadata": {},
   "outputs": [],
   "source": [
    "my_api_url"
   ]
  },
  {
   "cell_type": "markdown",
   "id": "3ce79839",
   "metadata": {},
   "source": [
    "# BELOW IS WHAT I CALL MY RESPONSE 2. THIS CONTAINS THE EXPANSIONS FUNCTION. IT IS DONE OUT OF ORDER BUT I HAVE MARKED THE SECTIONS FOR EITHER RESPONSE 2 OR RESPONSE 1."
   ]
  },
  {
   "cell_type": "code",
   "execution_count": 141,
   "id": "b620a12f",
   "metadata": {},
   "outputs": [],
   "source": [
    "expansions = 'author_id'"
   ]
  },
  {
   "cell_type": "code",
   "execution_count": 142,
   "id": "9fe1292d",
   "metadata": {},
   "outputs": [],
   "source": [
    "url_expansions = ep_url + '?query={}&max_results=100&tweet.fields={}&expansions={}&user.fields={}'.format(query, tweet_fields, expansions, 'username')"
   ]
  },
  {
   "cell_type": "code",
   "execution_count": 143,
   "id": "7650fef0",
   "metadata": {},
   "outputs": [],
   "source": [
    "response_2 = requests.request(\"GET\", url_expansions, headers = header)"
   ]
  },
  {
   "cell_type": "code",
   "execution_count": null,
   "id": "69c325bb",
   "metadata": {},
   "outputs": [],
   "source": [
    "response_2.json()"
   ]
  },
  {
   "cell_type": "code",
   "execution_count": 145,
   "id": "b31e985d",
   "metadata": {},
   "outputs": [],
   "source": [
    "response_2_dict = json.loads(response_2.text)"
   ]
  },
  {
   "cell_type": "code",
   "execution_count": 146,
   "id": "abb82745",
   "metadata": {},
   "outputs": [
    {
     "data": {
      "text/plain": [
       "dict_keys(['data', 'includes', 'meta'])"
      ]
     },
     "execution_count": 146,
     "metadata": {},
     "output_type": "execute_result"
    }
   ],
   "source": [
    "response_2_dict.keys()"
   ]
  },
  {
   "cell_type": "markdown",
   "id": "09dde467",
   "metadata": {},
   "source": [
    "# BELOW HERE IS MY RESPONSE 1 AKA THE ORIGINAL FUNCTION WITHOUT THE EXPANSIONS CALL."
   ]
  },
  {
   "cell_type": "code",
   "execution_count": 147,
   "id": "71a06960",
   "metadata": {},
   "outputs": [],
   "source": [
    "response_1 = requests.request(\"GET\", my_api_url, headers = header)"
   ]
  },
  {
   "cell_type": "code",
   "execution_count": null,
   "id": "4f266ee3",
   "metadata": {},
   "outputs": [],
   "source": [
    "response_1.text"
   ]
  },
  {
   "cell_type": "code",
   "execution_count": null,
   "id": "0cee9257",
   "metadata": {},
   "outputs": [],
   "source": [
    "response_1.json()"
   ]
  },
  {
   "cell_type": "code",
   "execution_count": 150,
   "id": "c2218375",
   "metadata": {},
   "outputs": [],
   "source": [
    "response_1_dict = json.loads(response_1.text)"
   ]
  },
  {
   "cell_type": "code",
   "execution_count": 151,
   "id": "b0646f42",
   "metadata": {},
   "outputs": [
    {
     "data": {
      "text/plain": [
       "dict_keys(['data', 'meta'])"
      ]
     },
     "execution_count": 151,
     "metadata": {},
     "output_type": "execute_result"
    }
   ],
   "source": [
    "response_1_dict.keys()"
   ]
  },
  {
   "cell_type": "code",
   "execution_count": 152,
   "id": "2e2dcee4",
   "metadata": {},
   "outputs": [],
   "source": [
    "my_df = pd.DataFrame(response_1_dict['data'])"
   ]
  },
  {
   "cell_type": "code",
   "execution_count": null,
   "id": "6ebf9d5a",
   "metadata": {},
   "outputs": [],
   "source": [
    "my_df"
   ]
  },
  {
   "cell_type": "code",
   "execution_count": 182,
   "id": "5df59b16",
   "metadata": {},
   "outputs": [],
   "source": [
    "my_df.to_csv(\"twitter_data.csv\")"
   ]
  },
  {
   "cell_type": "markdown",
   "id": "57d006f7",
   "metadata": {},
   "source": [
    "# Here is the beginning of pagination up to 300 tweets."
   ]
  },
  {
   "cell_type": "code",
   "execution_count": 184,
   "id": "608a8717",
   "metadata": {},
   "outputs": [],
   "source": [
    "next_token = url_expansions + '&next_token={}'.format(response_1_dict['meta']['next_token'])"
   ]
  },
  {
   "cell_type": "code",
   "execution_count": 185,
   "id": "22646bb1",
   "metadata": {},
   "outputs": [
    {
     "data": {
      "text/plain": [
       "'https://api.twitter.com/2/tweets/search/recent?query=%28%23Nintendo%29%20lang%3Aen&max_results=100&tweet.fields=public_metrics,created_at,author_id,lang&expansions=author_id&user.fields=username&next_token=b26v89c19zqg8o3fpdv5st2vyag83f37ojsfa39fqkyv1'"
      ]
     },
     "execution_count": 185,
     "metadata": {},
     "output_type": "execute_result"
    }
   ],
   "source": [
    "next_token"
   ]
  },
  {
   "cell_type": "code",
   "execution_count": 186,
   "id": "4561d7ff",
   "metadata": {},
   "outputs": [],
   "source": [
    "next_response = requests.request(\"GET\", next_token, headers = header)"
   ]
  },
  {
   "cell_type": "code",
   "execution_count": 191,
   "id": "11f5bc26",
   "metadata": {},
   "outputs": [],
   "source": [
    "my_df = my_df.append(pd.DataFrame(json.loads(next_response.text)['data']), ignore_index= True)"
   ]
  },
  {
   "cell_type": "code",
   "execution_count": null,
   "id": "2e82b636",
   "metadata": {},
   "outputs": [],
   "source": [
    "my_df"
   ]
  },
  {
   "cell_type": "code",
   "execution_count": 193,
   "id": "73876151",
   "metadata": {},
   "outputs": [],
   "source": [
    "next_response_dict = json.loads(next_response.text)"
   ]
  },
  {
   "cell_type": "code",
   "execution_count": 194,
   "id": "637ad0ef",
   "metadata": {},
   "outputs": [
    {
     "data": {
      "text/plain": [
       "dict_keys(['data', 'includes', 'meta'])"
      ]
     },
     "execution_count": 194,
     "metadata": {},
     "output_type": "execute_result"
    }
   ],
   "source": [
    "next_response_dict.keys()"
   ]
  },
  {
   "cell_type": "code",
   "execution_count": 195,
   "id": "e6c66fa4",
   "metadata": {},
   "outputs": [],
   "source": [
    "final_token = url_expansions + '&next_token={}'.format(next_response_dict['meta']['next_token'])"
   ]
  },
  {
   "cell_type": "code",
   "execution_count": 196,
   "id": "505404d2",
   "metadata": {},
   "outputs": [
    {
     "data": {
      "text/plain": [
       "'https://api.twitter.com/2/tweets/search/recent?query=%28%23Nintendo%29%20lang%3Aen&max_results=100&tweet.fields=public_metrics,created_at,author_id,lang&expansions=author_id&user.fields=username&next_token=b26v89c19zqg8o3fpdv5sr0v7g2lo2axq86o01pb2tn5p'"
      ]
     },
     "execution_count": 196,
     "metadata": {},
     "output_type": "execute_result"
    }
   ],
   "source": [
    "final_token"
   ]
  },
  {
   "cell_type": "code",
   "execution_count": 197,
   "id": "9f8df758",
   "metadata": {},
   "outputs": [],
   "source": [
    "final_response = requests.request(\"GET\", final_token, headers = header)"
   ]
  },
  {
   "cell_type": "code",
   "execution_count": 200,
   "id": "bec315e1",
   "metadata": {},
   "outputs": [],
   "source": [
    "my_df = my_df.append(pd.DataFrame(json.loads(final_response.text)['data']), ignore_index= True)"
   ]
  },
  {
   "cell_type": "markdown",
   "id": "a30691b8",
   "metadata": {},
   "source": [
    "# Below shows the dataframe calls 300 tweets without showing all of them."
   ]
  },
  {
   "cell_type": "code",
   "execution_count": 202,
   "id": "740d6849",
   "metadata": {},
   "outputs": [
    {
     "data": {
      "text/html": [
       "<div>\n",
       "<style scoped>\n",
       "    .dataframe tbody tr th:only-of-type {\n",
       "        vertical-align: middle;\n",
       "    }\n",
       "\n",
       "    .dataframe tbody tr th {\n",
       "        vertical-align: top;\n",
       "    }\n",
       "\n",
       "    .dataframe thead th {\n",
       "        text-align: right;\n",
       "    }\n",
       "</style>\n",
       "<table border=\"1\" class=\"dataframe\">\n",
       "  <thead>\n",
       "    <tr style=\"text-align: right;\">\n",
       "      <th></th>\n",
       "      <th>public_metrics</th>\n",
       "      <th>created_at</th>\n",
       "      <th>lang</th>\n",
       "      <th>author_id</th>\n",
       "      <th>text</th>\n",
       "      <th>id</th>\n",
       "    </tr>\n",
       "  </thead>\n",
       "  <tbody>\n",
       "    <tr>\n",
       "      <th>295</th>\n",
       "      <td>{'retweet_count': 3128, 'reply_count': 0, 'lik...</td>\n",
       "      <td>2021-10-20T18:40:44.000Z</td>\n",
       "      <td>en</td>\n",
       "      <td>3248516032</td>\n",
       "      <td>RT @Goraaz: I made a little transformation tes...</td>\n",
       "      <td>1450894772307206151</td>\n",
       "    </tr>\n",
       "    <tr>\n",
       "      <th>296</th>\n",
       "      <td>{'retweet_count': 1890, 'reply_count': 0, 'lik...</td>\n",
       "      <td>2021-10-20T18:40:41.000Z</td>\n",
       "      <td>en</td>\n",
       "      <td>1171449925931950083</td>\n",
       "      <td>RT @WoodenPlank: Super Space Bros.\\n\\n#SuperSm...</td>\n",
       "      <td>1450894760189861890</td>\n",
       "    </tr>\n",
       "    <tr>\n",
       "      <th>297</th>\n",
       "      <td>{'retweet_count': 3128, 'reply_count': 0, 'lik...</td>\n",
       "      <td>2021-10-20T18:40:23.000Z</td>\n",
       "      <td>en</td>\n",
       "      <td>738787050095316992</td>\n",
       "      <td>RT @Goraaz: I made a little transformation tes...</td>\n",
       "      <td>1450894683085881350</td>\n",
       "    </tr>\n",
       "    <tr>\n",
       "      <th>298</th>\n",
       "      <td>{'retweet_count': 29, 'reply_count': 0, 'like_...</td>\n",
       "      <td>2021-10-20T18:40:11.000Z</td>\n",
       "      <td>en</td>\n",
       "      <td>846546449412313088</td>\n",
       "      <td>RT @80sThen80sNow: The Only Dog it’s Okay to H...</td>\n",
       "      <td>1450894631718330370</td>\n",
       "    </tr>\n",
       "    <tr>\n",
       "      <th>299</th>\n",
       "      <td>{'retweet_count': 1890, 'reply_count': 0, 'lik...</td>\n",
       "      <td>2021-10-20T18:39:57.000Z</td>\n",
       "      <td>en</td>\n",
       "      <td>1252727790140448768</td>\n",
       "      <td>RT @WoodenPlank: Super Space Bros.\\n\\n#SuperSm...</td>\n",
       "      <td>1450894574176530434</td>\n",
       "    </tr>\n",
       "  </tbody>\n",
       "</table>\n",
       "</div>"
      ],
      "text/plain": [
       "                                        public_metrics  \\\n",
       "295  {'retweet_count': 3128, 'reply_count': 0, 'lik...   \n",
       "296  {'retweet_count': 1890, 'reply_count': 0, 'lik...   \n",
       "297  {'retweet_count': 3128, 'reply_count': 0, 'lik...   \n",
       "298  {'retweet_count': 29, 'reply_count': 0, 'like_...   \n",
       "299  {'retweet_count': 1890, 'reply_count': 0, 'lik...   \n",
       "\n",
       "                   created_at lang            author_id  \\\n",
       "295  2021-10-20T18:40:44.000Z   en           3248516032   \n",
       "296  2021-10-20T18:40:41.000Z   en  1171449925931950083   \n",
       "297  2021-10-20T18:40:23.000Z   en   738787050095316992   \n",
       "298  2021-10-20T18:40:11.000Z   en   846546449412313088   \n",
       "299  2021-10-20T18:39:57.000Z   en  1252727790140448768   \n",
       "\n",
       "                                                  text                   id  \n",
       "295  RT @Goraaz: I made a little transformation tes...  1450894772307206151  \n",
       "296  RT @WoodenPlank: Super Space Bros.\\n\\n#SuperSm...  1450894760189861890  \n",
       "297  RT @Goraaz: I made a little transformation tes...  1450894683085881350  \n",
       "298  RT @80sThen80sNow: The Only Dog it’s Okay to H...  1450894631718330370  \n",
       "299  RT @WoodenPlank: Super Space Bros.\\n\\n#SuperSm...  1450894574176530434  "
      ]
     },
     "execution_count": 202,
     "metadata": {},
     "output_type": "execute_result"
    }
   ],
   "source": [
    "my_df.tail(5)"
   ]
  },
  {
   "cell_type": "code",
   "execution_count": 199,
   "id": "703a366d",
   "metadata": {},
   "outputs": [],
   "source": [
    "final_response_dict = json.loads(final_response.text)"
   ]
  },
  {
   "cell_type": "markdown",
   "id": "159e8580",
   "metadata": {},
   "source": [
    "# Exported as CSV"
   ]
  },
  {
   "cell_type": "code",
   "execution_count": 203,
   "id": "9e2a1c63",
   "metadata": {},
   "outputs": [],
   "source": [
    "my_df.to_csv(r\"C:\\Users\\ryno2\\DATAINEMERGINGMEDIA\\Twitter_df.csv\", encoding = 'utf-8')"
   ]
  },
  {
   "cell_type": "code",
   "execution_count": null,
   "id": "5ac5e779",
   "metadata": {},
   "outputs": [],
   "source": []
  },
  {
   "cell_type": "code",
   "execution_count": 165,
   "id": "76195779",
   "metadata": {},
   "outputs": [
    {
     "data": {
      "text/plain": [
       "Index(['public_metrics', 'created_at', 'lang', 'author_id', 'text', 'id'], dtype='object')"
      ]
     },
     "execution_count": 165,
     "metadata": {},
     "output_type": "execute_result"
    }
   ],
   "source": [
    "my_df.keys()"
   ]
  },
  {
   "cell_type": "markdown",
   "id": "d5def5dc",
   "metadata": {},
   "source": [
    "# ORIGINALLY I WAS GOING TO USE THE NUMBER OF LIKES ON POSTS TO COMPARE TO OTHER POSTS BUT I UNFORTUNATELY WAS NOT ABLE TO SEPARATE THE PUBLIC METRICS SECTION TO BE ABLE TO SORT BY THE NUMBER OF LIKES A POST HAS."
   ]
  },
  {
   "cell_type": "code",
   "execution_count": null,
   "id": "f1f2f09a",
   "metadata": {},
   "outputs": [],
   "source": [
    "my_df['public_metrics']"
   ]
  },
  {
   "cell_type": "code",
   "execution_count": 166,
   "id": "d6707c1e",
   "metadata": {},
   "outputs": [],
   "source": [
    "dftest = pd.DataFrame(my_df['public_metrics'])"
   ]
  },
  {
   "cell_type": "code",
   "execution_count": null,
   "id": "8854f7f8",
   "metadata": {},
   "outputs": [],
   "source": [
    "dftest"
   ]
  },
  {
   "cell_type": "code",
   "execution_count": null,
   "id": "e79df54a",
   "metadata": {},
   "outputs": [],
   "source": [
    "liked_counts = dftest.groupby('like_count').count().sort_values('public_metrics',ascending = False)"
   ]
  },
  {
   "cell_type": "markdown",
   "id": "c1e2da41",
   "metadata": {},
   "source": [
    "#### above code doesnt work. I tried to use previous code to get what I wanted with the number of likes but unfortunately was unable."
   ]
  },
  {
   "cell_type": "markdown",
   "id": "c5b29ecf",
   "metadata": {},
   "source": [
    "# Conclusion: The data gathered shows things show as when a post was created, the id number of the user, and the actual text of the post. Using expansions, you can also retrieve the actual user name and what the person put as their actual name.\n",
    "\n",
    "# You can also see under \"public_metrics\" that it lists things such as a posts retweet or like count. Originally, I wanted to use the likes of the post to compare to others and see what posts are more popular.\n",
    "\n",
    "# As it stands now, the data gathered wouldn't be super useful unless you just specifically wanted a user's id number or perhaps compare the post times.\n",
    "\n",
    "# This is a good start, one just needs to discover the proper code to further parse the information desired."
   ]
  }
 ],
 "metadata": {
  "kernelspec": {
   "display_name": "Python 3 (ipykernel)",
   "language": "python",
   "name": "python3"
  },
  "language_info": {
   "codemirror_mode": {
    "name": "ipython",
    "version": 3
   },
   "file_extension": ".py",
   "mimetype": "text/x-python",
   "name": "python",
   "nbconvert_exporter": "python",
   "pygments_lexer": "ipython3",
   "version": "3.9.6"
  }
 },
 "nbformat": 4,
 "nbformat_minor": 5
}
